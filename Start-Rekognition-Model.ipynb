{
 "cells": [
  {
   "cell_type": "markdown",
   "metadata": {},
   "source": [
    "# Start and Test Rekognition Model"
   ]
  },
  {
   "cell_type": "markdown",
   "metadata": {},
   "source": [
    "## Upgrade awscli and boto3 libraries"
   ]
  },
  {
   "cell_type": "code",
   "execution_count": 1,
   "metadata": {},
   "outputs": [
    {
     "name": "stdout",
     "output_type": "stream",
     "text": [
      "Collecting boto3\n",
      "\u001b[?25l  Downloading https://files.pythonhosted.org/packages/82/5e/e3ad0ea08195a16b9dd541727364d8cf53709ffe2f1a59a51ee3c62bcd3c/boto3-1.12.2-py2.py3-none-any.whl (128kB)\n",
      "\u001b[K    100% |████████████████████████████████| 133kB 9.2MB/s ta 0:00:011\n",
      "\u001b[?25hRequirement not upgraded as not directly required: s3transfer<0.4.0,>=0.3.0 in /home/ec2-user/anaconda3/envs/python3/lib/python3.6/site-packages (from boto3) (0.3.3)\n",
      "Requirement not upgraded as not directly required: jmespath<1.0.0,>=0.7.1 in /home/ec2-user/anaconda3/envs/python3/lib/python3.6/site-packages (from boto3) (0.9.4)\n",
      "Collecting botocore<1.16.0,>=1.15.2 (from boto3)\n",
      "\u001b[?25l  Downloading https://files.pythonhosted.org/packages/0b/44/906ebd1df90c435bdee45cbca6bae7a14d94c5b33c7517fddf540dbc6823/botocore-1.15.2-py2.py3-none-any.whl (5.9MB)\n",
      "\u001b[K    100% |████████████████████████████████| 5.9MB 8.4MB/s eta 0:00:01\n",
      "\u001b[?25hRequirement not upgraded as not directly required: python-dateutil<3.0.0,>=2.1 in /home/ec2-user/anaconda3/envs/python3/lib/python3.6/site-packages (from botocore<1.16.0,>=1.15.2->boto3) (2.7.3)\n",
      "Requirement not upgraded as not directly required: urllib3<1.26,>=1.20; python_version != \"3.4\" in /home/ec2-user/anaconda3/envs/python3/lib/python3.6/site-packages (from botocore<1.16.0,>=1.15.2->boto3) (1.23)\n",
      "Requirement not upgraded as not directly required: docutils<0.16,>=0.10 in /home/ec2-user/anaconda3/envs/python3/lib/python3.6/site-packages (from botocore<1.16.0,>=1.15.2->boto3) (0.14)\n",
      "Requirement not upgraded as not directly required: six>=1.5 in /home/ec2-user/anaconda3/envs/python3/lib/python3.6/site-packages (from python-dateutil<3.0.0,>=2.1->botocore<1.16.0,>=1.15.2->boto3) (1.11.0)\n",
      "\u001b[31mawscli 1.17.13 has requirement botocore==1.14.13, but you'll have botocore 1.15.2 which is incompatible.\u001b[0m\n",
      "Installing collected packages: botocore, boto3\n",
      "Successfully installed boto3-1.12.2 botocore-1.15.2\n",
      "\u001b[33mYou are using pip version 10.0.1, however version 20.0.2 is available.\n",
      "You should consider upgrading via the 'pip install --upgrade pip' command.\u001b[0m\n"
     ]
    }
   ],
   "source": [
    "!pip install boto3 --upgrade --user"
   ]
  },
  {
   "cell_type": "code",
   "execution_count": 2,
   "metadata": {},
   "outputs": [
    {
     "name": "stdout",
     "output_type": "stream",
     "text": [
      "Collecting awscli\n",
      "\u001b[?25l  Downloading https://files.pythonhosted.org/packages/fb/3b/7b5db1f1b153971fc5cfbb2102547a1dd1cf21556eacd80cc6c029939b9a/awscli-1.18.2-py2.py3-none-any.whl (2.9MB)\n",
      "\u001b[K    100% |████████████████████████████████| 2.9MB 13.7MB/s ta 0:00:01\n",
      "\u001b[?25hRequirement not upgraded as not directly required: PyYAML<5.3,>=3.10 in /home/ec2-user/anaconda3/envs/python3/lib/python3.6/site-packages (from awscli) (5.2)\n",
      "Requirement not upgraded as not directly required: botocore==1.15.2 in /home/ec2-user/.local/lib/python3.6/site-packages (from awscli) (1.15.2)\n",
      "Requirement not upgraded as not directly required: colorama<0.4.4,>=0.2.5; python_version != \"3.4\" in /home/ec2-user/anaconda3/envs/python3/lib/python3.6/site-packages (from awscli) (0.3.9)\n",
      "Requirement not upgraded as not directly required: docutils<0.16,>=0.10 in /home/ec2-user/anaconda3/envs/python3/lib/python3.6/site-packages (from awscli) (0.14)\n",
      "Requirement not upgraded as not directly required: s3transfer<0.4.0,>=0.3.0 in /home/ec2-user/anaconda3/envs/python3/lib/python3.6/site-packages (from awscli) (0.3.3)\n",
      "Requirement not upgraded as not directly required: rsa<=3.5.0,>=3.1.2 in /home/ec2-user/anaconda3/envs/python3/lib/python3.6/site-packages (from awscli) (3.4.2)\n",
      "Requirement not upgraded as not directly required: jmespath<1.0.0,>=0.7.1 in /home/ec2-user/anaconda3/envs/python3/lib/python3.6/site-packages (from botocore==1.15.2->awscli) (0.9.4)\n",
      "Requirement not upgraded as not directly required: python-dateutil<3.0.0,>=2.1 in /home/ec2-user/anaconda3/envs/python3/lib/python3.6/site-packages (from botocore==1.15.2->awscli) (2.7.3)\n",
      "Requirement not upgraded as not directly required: urllib3<1.26,>=1.20; python_version != \"3.4\" in /home/ec2-user/anaconda3/envs/python3/lib/python3.6/site-packages (from botocore==1.15.2->awscli) (1.23)\n",
      "Requirement not upgraded as not directly required: pyasn1>=0.1.3 in /home/ec2-user/anaconda3/envs/python3/lib/python3.6/site-packages (from rsa<=3.5.0,>=3.1.2->awscli) (0.4.8)\n",
      "Requirement not upgraded as not directly required: six>=1.5 in /home/ec2-user/anaconda3/envs/python3/lib/python3.6/site-packages (from python-dateutil<3.0.0,>=2.1->botocore==1.15.2->awscli) (1.11.0)\n",
      "Installing collected packages: awscli\n",
      "Successfully installed awscli-1.18.2\n",
      "\u001b[33mYou are using pip version 10.0.1, however version 20.0.2 is available.\n",
      "You should consider upgrading via the 'pip install --upgrade pip' command.\u001b[0m\n"
     ]
    }
   ],
   "source": [
    "!pip install awscli --upgrade --user"
   ]
  },
  {
   "cell_type": "markdown",
   "metadata": {},
   "source": [
    "## 1- Start your Rekognition model (Editing required)"
   ]
  },
  {
   "cell_type": "code",
   "execution_count": 3,
   "metadata": {},
   "outputs": [
    {
     "name": "stdout",
     "output_type": "stream",
     "text": [
      "{\r\n",
      "    \"Status\": \"STARTING\"\r\n",
      "}\r\n"
     ]
    }
   ],
   "source": [
    "!aws rekognition start-project-version \\\n",
    "  --project-version-arn \"arn:aws:rekognition:us-east-1:283029692235:project/test1/version/test1.2020-02-18T13.43.28/1582055008615\" \\\n",
    "  --min-inference-units 1 \\\n",
    "  --endpoint-url https://rekognition.us-east-1.amazonaws.com \\\n",
    "  --region us-east-1"
   ]
  },
  {
   "cell_type": "markdown",
   "metadata": {},
   "source": [
    "## 2- Define inference function (No editing required)"
   ]
  },
  {
   "cell_type": "code",
   "execution_count": null,
   "metadata": {
    "scrolled": true
   },
   "outputs": [],
   "source": [
    "confidence =98\n",
    "import boto3\n",
    "import io\n",
    "%matplotlib inline\n",
    "from PIL import Image, ImageDraw, ExifTags, ImageColor, ImageFont\n",
    "\n",
    "def show_custom_labels(model,bucket,photo):\n",
    "     \n",
    "\n",
    "    client=boto3.client('rekognition')\n",
    "\n",
    "    # Load image from S3 bucket\n",
    "    s3_connection = boto3.resource('s3')\n",
    "\n",
    "    s3_object = s3_connection.Object(bucket,photo)\n",
    "    s3_response = s3_object.get()\n",
    "\n",
    "    stream = io.BytesIO(s3_response['Body'].read())\n",
    "    image=Image.open(stream)\n",
    "    \n",
    "    #Call DetectCustomLabels \n",
    "    response = client.detect_custom_labels(Image={'S3Object': {'Bucket': bucket, 'Name': photo}},\n",
    "        MinConfidence=1,\n",
    "        ProjectVersionArn=model)\n",
    "   \n",
    "   \n",
    "    imgWidth, imgHeight = image.size  \n",
    "    draw = ImageDraw.Draw(image)  \n",
    "\n",
    "    colors = ('#FF0000','#0000FF','#FF00FF','#F1C40F')\n",
    "    dict1 = {'packer':0,'stabilizer':1,'joint':2,'wrench':3}  \n",
    "    # calculate and display bounding boxes for each detected custom label       \n",
    "    for customLabel in response['CustomLabels']:\n",
    "        if customLabel['Confidence'] >= confidence:\n",
    "            if (customLabel['Name']== 'stabilizer' and customLabel['Confidence']<100):\n",
    "                continue\n",
    "            \n",
    "            if 'Geometry' in customLabel:\n",
    "                box = customLabel['Geometry']['BoundingBox']\n",
    "                left = imgWidth * box['Left']\n",
    "                top = imgHeight * box['Top']\n",
    "                width = imgWidth * box['Width']\n",
    "                height = imgHeight * box['Height']\n",
    "                draw.text((left + width-20,top-15), customLabel['Name'], fill= colors[dict1[customLabel['Name']]])\n",
    "                draw.text((left,top-15), str(customLabel['Confidence'])[:6], fill= colors[dict1[customLabel['Name']]])#, font='Arial.ttf') \n",
    "\n",
    "                points = (\n",
    "                    (left,top),\n",
    "                    (left + width, top),\n",
    "                    (left + width, top + height),\n",
    "                    (left , top + height),\n",
    "                    (left, top))\n",
    "                draw.line(points, fill= colors[dict1[customLabel['Name']]], width=5)\n",
    "\n",
    "    image.show()\n",
    "    display(image)\n",
    "    image = image.convert('RGB')\n",
    "    image.save('inference.jpg',optimize=True,quality=300)\n",
    "\n",
    "    return len(response['CustomLabels'])"
   ]
  },
  {
   "cell_type": "markdown",
   "metadata": {},
   "source": [
    "## 3- Detect Tools (Editing required)"
   ]
  },
  {
   "cell_type": "code",
   "execution_count": null,
   "metadata": {},
   "outputs": [],
   "source": [
    "bucket=\"your bucket name where you stored your images\"\n",
    "model= \"Your model arn. It should be similar to below exapmple\"\n",
    "photo = 'path to picture in your bucket'\n",
    "\n",
    "\n",
    "# Example:\n",
    "\n",
    "# bucket = 'bucket-name'\n",
    "# model = \"arn:aws:rekognition:us-east-1:745137163025:project/cop/version/cop.2020-01-31T12.17.29/1580494650055\"\n",
    "# photo = 'pictures/4.png'\n",
    "\n",
    "label_count=show_custom_labels(model,bucket,photo)"
   ]
  },
  {
   "cell_type": "markdown",
   "metadata": {},
   "source": [
    "## 4- Stop your Rekognition model (Editing required). After pasting remove the following line: --min-inference-units 1 \\"
   ]
  },
  {
   "cell_type": "code",
   "execution_count": null,
   "metadata": {},
   "outputs": [],
   "source": [
    "# After pasting remove the following line: --min-inference-units 1 \\\n",
    "\n",
    "!aws rekognition stop-project-version \\\n",
    "  --project-version-arn \"arn:aws:rekognition:us-east-1:745137163025:project/cop/version/cop.2020-01-31T12.17.29/1580494650055\" \\\n",
    "  --min-inference-units 1 \\\n",
    "  --endpoint-url https://rekognition.us-east-1.amazonaws.com \\\n",
    "  --region us-east-1"
   ]
  }
 ],
 "metadata": {
  "kernelspec": {
   "display_name": "conda_python3",
   "language": "python",
   "name": "conda_python3"
  },
  "language_info": {
   "codemirror_mode": {
    "name": "ipython",
    "version": 3
   },
   "file_extension": ".py",
   "mimetype": "text/x-python",
   "name": "python",
   "nbconvert_exporter": "python",
   "pygments_lexer": "ipython3",
   "version": "3.6.5"
  }
 },
 "nbformat": 4,
 "nbformat_minor": 2
}
